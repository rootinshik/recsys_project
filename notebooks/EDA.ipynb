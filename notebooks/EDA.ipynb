{
 "cells": [
  {
   "cell_type": "code",
   "execution_count": 1,
   "id": "659c9739-b5fd-41c6-9af2-911156373d0f",
   "metadata": {},
   "outputs": [],
   "source": [
    "import pandas as pd"
   ]
  },
  {
   "cell_type": "code",
   "execution_count": 14,
   "id": "8fe197b7-18b5-4d52-8fa7-8d2eeafa8795",
   "metadata": {},
   "outputs": [
    {
     "name": "stdout",
     "output_type": "stream",
     "text": [
      "dislikes.parquet  listens.parquet      undislikes.parquet\n",
      "likes.parquet     multi_event.parquet  unlikes.parquet\n"
     ]
    }
   ],
   "source": [
    "!ls ../data/raw"
   ]
  },
  {
   "cell_type": "markdown",
   "id": "fd933219-76bc-43c3-a5f4-676f837ff6f8",
   "metadata": {},
   "source": [
    "#### Важная информация\n",
    "\n",
    "* Boolean flag (0/1) indicating if the interaction was algorithmic (0) or organic (1)"
   ]
  },
  {
   "cell_type": "code",
   "execution_count": 9,
   "id": "8091da8a-395c-456a-bcb9-bbf3660a73d6",
   "metadata": {},
   "outputs": [
    {
     "data": {
      "text/html": [
       "<div>\n",
       "<style scoped>\n",
       "    .dataframe tbody tr th:only-of-type {\n",
       "        vertical-align: middle;\n",
       "    }\n",
       "\n",
       "    .dataframe tbody tr th {\n",
       "        vertical-align: top;\n",
       "    }\n",
       "\n",
       "    .dataframe thead th {\n",
       "        text-align: right;\n",
       "    }\n",
       "</style>\n",
       "<table border=\"1\" class=\"dataframe\">\n",
       "  <thead>\n",
       "    <tr style=\"text-align: right;\">\n",
       "      <th></th>\n",
       "      <th>uid</th>\n",
       "      <th>timestamp</th>\n",
       "      <th>item_id</th>\n",
       "      <th>is_organic</th>\n",
       "      <th>played_ratio_pct</th>\n",
       "      <th>track_length_seconds</th>\n",
       "      <th>event_type</th>\n",
       "    </tr>\n",
       "  </thead>\n",
       "  <tbody>\n",
       "    <tr>\n",
       "      <th>0</th>\n",
       "      <td>100</td>\n",
       "      <td>39420</td>\n",
       "      <td>8326270</td>\n",
       "      <td>0</td>\n",
       "      <td>100.0</td>\n",
       "      <td>170.0</td>\n",
       "      <td>listen</td>\n",
       "    </tr>\n",
       "    <tr>\n",
       "      <th>1</th>\n",
       "      <td>100</td>\n",
       "      <td>39420</td>\n",
       "      <td>1441281</td>\n",
       "      <td>0</td>\n",
       "      <td>100.0</td>\n",
       "      <td>105.0</td>\n",
       "      <td>listen</td>\n",
       "    </tr>\n",
       "    <tr>\n",
       "      <th>2</th>\n",
       "      <td>100</td>\n",
       "      <td>39625</td>\n",
       "      <td>286361</td>\n",
       "      <td>0</td>\n",
       "      <td>100.0</td>\n",
       "      <td>185.0</td>\n",
       "      <td>listen</td>\n",
       "    </tr>\n",
       "    <tr>\n",
       "      <th>3</th>\n",
       "      <td>100</td>\n",
       "      <td>40110</td>\n",
       "      <td>732449</td>\n",
       "      <td>0</td>\n",
       "      <td>100.0</td>\n",
       "      <td>240.0</td>\n",
       "      <td>listen</td>\n",
       "    </tr>\n",
       "    <tr>\n",
       "      <th>4</th>\n",
       "      <td>100</td>\n",
       "      <td>40360</td>\n",
       "      <td>3397170</td>\n",
       "      <td>0</td>\n",
       "      <td>46.0</td>\n",
       "      <td>130.0</td>\n",
       "      <td>listen</td>\n",
       "    </tr>\n",
       "    <tr>\n",
       "      <th>...</th>\n",
       "      <td>...</td>\n",
       "      <td>...</td>\n",
       "      <td>...</td>\n",
       "      <td>...</td>\n",
       "      <td>...</td>\n",
       "      <td>...</td>\n",
       "      <td>...</td>\n",
       "    </tr>\n",
       "    <tr>\n",
       "      <th>47790444</th>\n",
       "      <td>1000000</td>\n",
       "      <td>25961415</td>\n",
       "      <td>3369589</td>\n",
       "      <td>0</td>\n",
       "      <td>99.0</td>\n",
       "      <td>185.0</td>\n",
       "      <td>listen</td>\n",
       "    </tr>\n",
       "    <tr>\n",
       "      <th>47790445</th>\n",
       "      <td>1000000</td>\n",
       "      <td>25961615</td>\n",
       "      <td>8120372</td>\n",
       "      <td>0</td>\n",
       "      <td>99.0</td>\n",
       "      <td>200.0</td>\n",
       "      <td>listen</td>\n",
       "    </tr>\n",
       "    <tr>\n",
       "      <th>47790446</th>\n",
       "      <td>1000000</td>\n",
       "      <td>25961805</td>\n",
       "      <td>1578810</td>\n",
       "      <td>0</td>\n",
       "      <td>99.0</td>\n",
       "      <td>190.0</td>\n",
       "      <td>listen</td>\n",
       "    </tr>\n",
       "    <tr>\n",
       "      <th>47790447</th>\n",
       "      <td>1000000</td>\n",
       "      <td>25962060</td>\n",
       "      <td>3732104</td>\n",
       "      <td>0</td>\n",
       "      <td>100.0</td>\n",
       "      <td>255.0</td>\n",
       "      <td>listen</td>\n",
       "    </tr>\n",
       "    <tr>\n",
       "      <th>47790448</th>\n",
       "      <td>1000000</td>\n",
       "      <td>25962225</td>\n",
       "      <td>2978154</td>\n",
       "      <td>0</td>\n",
       "      <td>74.0</td>\n",
       "      <td>220.0</td>\n",
       "      <td>listen</td>\n",
       "    </tr>\n",
       "  </tbody>\n",
       "</table>\n",
       "<p>47790449 rows × 7 columns</p>\n",
       "</div>"
      ],
      "text/plain": [
       "              uid  timestamp  item_id  is_organic  played_ratio_pct  \\\n",
       "0             100      39420  8326270           0             100.0   \n",
       "1             100      39420  1441281           0             100.0   \n",
       "2             100      39625   286361           0             100.0   \n",
       "3             100      40110   732449           0             100.0   \n",
       "4             100      40360  3397170           0              46.0   \n",
       "...           ...        ...      ...         ...               ...   \n",
       "47790444  1000000   25961415  3369589           0              99.0   \n",
       "47790445  1000000   25961615  8120372           0              99.0   \n",
       "47790446  1000000   25961805  1578810           0              99.0   \n",
       "47790447  1000000   25962060  3732104           0             100.0   \n",
       "47790448  1000000   25962225  2978154           0              74.0   \n",
       "\n",
       "          track_length_seconds event_type  \n",
       "0                        170.0     listen  \n",
       "1                        105.0     listen  \n",
       "2                        185.0     listen  \n",
       "3                        240.0     listen  \n",
       "4                        130.0     listen  \n",
       "...                        ...        ...  \n",
       "47790444                 185.0     listen  \n",
       "47790445                 200.0     listen  \n",
       "47790446                 190.0     listen  \n",
       "47790447                 255.0     listen  \n",
       "47790448                 220.0     listen  \n",
       "\n",
       "[47790449 rows x 7 columns]"
      ]
     },
     "execution_count": 9,
     "metadata": {},
     "output_type": "execute_result"
    }
   ],
   "source": [
    "df = pd.read_parquet(\"../data/raw/multi_event.parquet\")\n",
    "df"
   ]
  },
  {
   "cell_type": "code",
   "execution_count": 12,
   "id": "0a11c014-11b0-4565-9c72-2c14ebe8ad02",
   "metadata": {},
   "outputs": [
    {
     "data": {
      "text/plain": [
       "array(['listen', 'like', 'unlike', 'dislike', 'undislike'], dtype=object)"
      ]
     },
     "execution_count": 12,
     "metadata": {},
     "output_type": "execute_result"
    }
   ],
   "source": [
    "df[\"event_type\"].unique()"
   ]
  }
 ],
 "metadata": {
  "kernelspec": {
   "display_name": "Python 3 (ipykernel)",
   "language": "python",
   "name": "python3"
  },
  "language_info": {
   "codemirror_mode": {
    "name": "ipython",
    "version": 3
   },
   "file_extension": ".py",
   "mimetype": "text/x-python",
   "name": "python",
   "nbconvert_exporter": "python",
   "pygments_lexer": "ipython3",
   "version": "3.12.0"
  }
 },
 "nbformat": 4,
 "nbformat_minor": 5
}
