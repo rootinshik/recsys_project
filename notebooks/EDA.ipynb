{
 "cells": [
  {
   "cell_type": "code",
   "execution_count": 1,
   "id": "659c9739-b5fd-41c6-9af2-911156373d0f",
   "metadata": {},
   "outputs": [],
   "source": [
    "import numpy as np\n",
    "import pandas as pd"
   ]
  },
  {
   "cell_type": "code",
   "execution_count": 2,
   "id": "8fe197b7-18b5-4d52-8fa7-8d2eeafa8795",
   "metadata": {},
   "outputs": [
    {
     "name": "stdout",
     "output_type": "stream",
     "text": [
      "album_item_mapping.parquet   likes.parquet        undislikes.parquet\n",
      "artist_item_mapping.parquet  listens.parquet      unlikes.parquet\n",
      "dislikes.parquet             multi_event.parquet\n"
     ]
    }
   ],
   "source": [
    "!ls ../data/raw"
   ]
  },
  {
   "cell_type": "code",
   "execution_count": 3,
   "id": "1f422ec1-7c30-450b-8408-a150dd18def8",
   "metadata": {},
   "outputs": [],
   "source": [
    "df = pd.read_parquet(\"../data/raw/likes.parquet\")"
   ]
  },
  {
   "cell_type": "code",
   "execution_count": 4,
   "id": "e324df11-ba2e-4567-92cf-c986e8edde32",
   "metadata": {},
   "outputs": [
    {
     "data": {
      "text/html": [
       "<div>\n",
       "<style scoped>\n",
       "    .dataframe tbody tr th:only-of-type {\n",
       "        vertical-align: middle;\n",
       "    }\n",
       "\n",
       "    .dataframe tbody tr th {\n",
       "        vertical-align: top;\n",
       "    }\n",
       "\n",
       "    .dataframe thead th {\n",
       "        text-align: right;\n",
       "    }\n",
       "</style>\n",
       "<table border=\"1\" class=\"dataframe\">\n",
       "  <thead>\n",
       "    <tr style=\"text-align: right;\">\n",
       "      <th></th>\n",
       "      <th>uid</th>\n",
       "      <th>timestamp</th>\n",
       "      <th>item_id</th>\n",
       "      <th>is_organic</th>\n",
       "    </tr>\n",
       "  </thead>\n",
       "  <tbody>\n",
       "    <tr>\n",
       "      <th>0</th>\n",
       "      <td>100</td>\n",
       "      <td>44755</td>\n",
       "      <td>732449</td>\n",
       "      <td>1</td>\n",
       "    </tr>\n",
       "    <tr>\n",
       "      <th>1</th>\n",
       "      <td>100</td>\n",
       "      <td>1155860</td>\n",
       "      <td>6568592</td>\n",
       "      <td>0</td>\n",
       "    </tr>\n",
       "    <tr>\n",
       "      <th>2</th>\n",
       "      <td>100</td>\n",
       "      <td>1259125</td>\n",
       "      <td>5411243</td>\n",
       "      <td>1</td>\n",
       "    </tr>\n",
       "    <tr>\n",
       "      <th>3</th>\n",
       "      <td>100</td>\n",
       "      <td>1260005</td>\n",
       "      <td>7371186</td>\n",
       "      <td>0</td>\n",
       "    </tr>\n",
       "    <tr>\n",
       "      <th>4</th>\n",
       "      <td>100</td>\n",
       "      <td>1263935</td>\n",
       "      <td>4943655</td>\n",
       "      <td>0</td>\n",
       "    </tr>\n",
       "    <tr>\n",
       "      <th>...</th>\n",
       "      <td>...</td>\n",
       "      <td>...</td>\n",
       "      <td>...</td>\n",
       "      <td>...</td>\n",
       "    </tr>\n",
       "    <tr>\n",
       "      <th>881451</th>\n",
       "      <td>999900</td>\n",
       "      <td>25710740</td>\n",
       "      <td>1005397</td>\n",
       "      <td>1</td>\n",
       "    </tr>\n",
       "    <tr>\n",
       "      <th>881452</th>\n",
       "      <td>1000000</td>\n",
       "      <td>14299485</td>\n",
       "      <td>3694666</td>\n",
       "      <td>1</td>\n",
       "    </tr>\n",
       "    <tr>\n",
       "      <th>881453</th>\n",
       "      <td>1000000</td>\n",
       "      <td>19336945</td>\n",
       "      <td>7071820</td>\n",
       "      <td>0</td>\n",
       "    </tr>\n",
       "    <tr>\n",
       "      <th>881454</th>\n",
       "      <td>1000000</td>\n",
       "      <td>19337350</td>\n",
       "      <td>4465732</td>\n",
       "      <td>0</td>\n",
       "    </tr>\n",
       "    <tr>\n",
       "      <th>881455</th>\n",
       "      <td>1000000</td>\n",
       "      <td>19338070</td>\n",
       "      <td>1170162</td>\n",
       "      <td>0</td>\n",
       "    </tr>\n",
       "  </tbody>\n",
       "</table>\n",
       "<p>881456 rows × 4 columns</p>\n",
       "</div>"
      ],
      "text/plain": [
       "            uid  timestamp  item_id  is_organic\n",
       "0           100      44755   732449           1\n",
       "1           100    1155860  6568592           0\n",
       "2           100    1259125  5411243           1\n",
       "3           100    1260005  7371186           0\n",
       "4           100    1263935  4943655           0\n",
       "...         ...        ...      ...         ...\n",
       "881451   999900   25710740  1005397           1\n",
       "881452  1000000   14299485  3694666           1\n",
       "881453  1000000   19336945  7071820           0\n",
       "881454  1000000   19337350  4465732           0\n",
       "881455  1000000   19338070  1170162           0\n",
       "\n",
       "[881456 rows x 4 columns]"
      ]
     },
     "execution_count": 4,
     "metadata": {},
     "output_type": "execute_result"
    }
   ],
   "source": [
    "df"
   ]
  },
  {
   "cell_type": "code",
   "execution_count": 5,
   "id": "870346f3-e28e-4a98-b1c3-d6654951dcab",
   "metadata": {},
   "outputs": [
    {
     "data": {
      "text/html": [
       "<div>\n",
       "<style scoped>\n",
       "    .dataframe tbody tr th:only-of-type {\n",
       "        vertical-align: middle;\n",
       "    }\n",
       "\n",
       "    .dataframe tbody tr th {\n",
       "        vertical-align: top;\n",
       "    }\n",
       "\n",
       "    .dataframe thead th {\n",
       "        text-align: right;\n",
       "    }\n",
       "</style>\n",
       "<table border=\"1\" class=\"dataframe\">\n",
       "  <thead>\n",
       "    <tr style=\"text-align: right;\">\n",
       "      <th></th>\n",
       "      <th>items_count</th>\n",
       "    </tr>\n",
       "    <tr>\n",
       "      <th>uid</th>\n",
       "      <th></th>\n",
       "    </tr>\n",
       "  </thead>\n",
       "  <tbody>\n",
       "    <tr>\n",
       "      <th>100</th>\n",
       "      <td>20</td>\n",
       "    </tr>\n",
       "    <tr>\n",
       "      <th>300</th>\n",
       "      <td>44</td>\n",
       "    </tr>\n",
       "    <tr>\n",
       "      <th>400</th>\n",
       "      <td>58</td>\n",
       "    </tr>\n",
       "    <tr>\n",
       "      <th>500</th>\n",
       "      <td>4</td>\n",
       "    </tr>\n",
       "    <tr>\n",
       "      <th>700</th>\n",
       "      <td>2</td>\n",
       "    </tr>\n",
       "    <tr>\n",
       "      <th>...</th>\n",
       "      <td>...</td>\n",
       "    </tr>\n",
       "    <tr>\n",
       "      <th>999400</th>\n",
       "      <td>79</td>\n",
       "    </tr>\n",
       "    <tr>\n",
       "      <th>999700</th>\n",
       "      <td>8</td>\n",
       "    </tr>\n",
       "    <tr>\n",
       "      <th>999800</th>\n",
       "      <td>6</td>\n",
       "    </tr>\n",
       "    <tr>\n",
       "      <th>999900</th>\n",
       "      <td>146</td>\n",
       "    </tr>\n",
       "    <tr>\n",
       "      <th>1000000</th>\n",
       "      <td>4</td>\n",
       "    </tr>\n",
       "  </tbody>\n",
       "</table>\n",
       "<p>8283 rows × 1 columns</p>\n",
       "</div>"
      ],
      "text/plain": [
       "         items_count\n",
       "uid                 \n",
       "100               20\n",
       "300               44\n",
       "400               58\n",
       "500                4\n",
       "700                2\n",
       "...              ...\n",
       "999400            79\n",
       "999700             8\n",
       "999800             6\n",
       "999900           146\n",
       "1000000            4\n",
       "\n",
       "[8283 rows x 1 columns]"
      ]
     },
     "execution_count": 5,
     "metadata": {},
     "output_type": "execute_result"
    }
   ],
   "source": [
    "user_inter_cnt_df = df[[\"uid\", \"item_id\"]].groupby(\"uid\").count().rename(columns={\"item_id\":\"items_count\"})\n",
    "user_inter_cnt_df"
   ]
  },
  {
   "cell_type": "code",
   "execution_count": 6,
   "id": "cbc114f2-d965-4256-b189-9ffde2defa7d",
   "metadata": {},
   "outputs": [
    {
     "data": {
      "text/plain": [
       "(items_count    106.417482\n",
       " dtype: float64,\n",
       " items_count    44.0\n",
       " dtype: float64)"
      ]
     },
     "execution_count": 6,
     "metadata": {},
     "output_type": "execute_result"
    }
   ],
   "source": [
    "user_inter_cnt_df.mean(), user_inter_cnt_df.median()"
   ]
  },
  {
   "cell_type": "code",
   "execution_count": 7,
   "id": "6cd2a6e4-6667-4c9a-947c-35ed52ad1315",
   "metadata": {},
   "outputs": [
    {
     "data": {
      "text/plain": [
       "<Axes: >"
      ]
     },
     "execution_count": 7,
     "metadata": {},
     "output_type": "execute_result"
    },
    {
     "data": {
      "image/png": "[encoded data removed]",
      "text/plain": [
       "<Figure size 640x480 with 1 Axes>"
      ]
     },
     "metadata": {},
     "output_type": "display_data"
    }
   ],
   "source": [
    "user_inter_cnt_df[\"items_count\"].hist(bins=100)"
   ]
  },
  {
   "cell_type": "code",
   "execution_count": 8,
   "id": "de657e0f-caa0-424c-9a32-957d58ce2aa4",
   "metadata": {},
   "outputs": [
    {
     "data": {
      "text/plain": [
       "array([[<Axes: title={'center': 'users_count'}>]], dtype=object)"
      ]
     },
     "execution_count": 8,
     "metadata": {},
     "output_type": "execute_result"
    },
    {
     "data": {
      "image/png": "[encoded data removed]",
      "text/plain": [
       "<Figure size 640x480 with 1 Axes>"
      ]
     },
     "metadata": {},
     "output_type": "display_data"
    }
   ],
   "source": [
    "item_inter_cnt_df = df[[\"item_id\", \"uid\"]].groupby(\"item_id\").count().rename(columns={\"uid\":\"users_count\"})\n",
    "item_inter_cnt_df.hist(bins=100)"
   ]
  },
  {
   "cell_type": "code",
   "execution_count": 9,
   "id": "0a65a275-26d4-4641-a861-c89d43df63d1",
   "metadata": {},
   "outputs": [
    {
     "data": {
      "text/plain": [
       "(users_count    4.861757\n",
       " dtype: float64,\n",
       " users_count    1.0\n",
       " dtype: float64)"
      ]
     },
     "execution_count": 9,
     "metadata": {},
     "output_type": "execute_result"
    }
   ],
   "source": [
    "item_inter_cnt_df.mean(), item_inter_cnt_df.median()"
   ]
  }
 ],
 "metadata": {
  "kernelspec": {
   "display_name": "Python 3 (ipykernel)",
   "language": "python",
   "name": "python3"
  },
  "language_info": {
   "codemirror_mode": {
    "name": "ipython",
    "version": 3
   },
   "file_extension": ".py",
   "mimetype": "text/x-python",
   "name": "python",
   "nbconvert_exporter": "python",
   "pygments_lexer": "ipython3",
   "version": "3.12.0"
  }
 },
 "nbformat": 4,
 "nbformat_minor": 5
}
